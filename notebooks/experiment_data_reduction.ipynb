{
 "cells": [
  {
   "cell_type": "code",
   "execution_count": 1,
   "metadata": {},
   "outputs": [
    {
     "name": "stdout",
     "output_type": "stream",
     "text": [
      "MongoDB is running.\n",
      "MongoDB is running.\n",
      "Experiment s0144sa03min22 found\n",
      "Applied calibration for piston vertical in machine Brava2.\n",
      "Applied calibration for piston horizontal in machine Brava2.\n"
     ]
    }
   ],
   "source": [
    "import numpy as np\n",
    "import pandas as pd\n",
    "import matplotlib.pyplot as plt\n",
    "from services.machine_service import MachineService\n",
    "from services.experiment_service import ExperimentService\n",
    "\n",
    "######################################################################\n",
    "# Needed functions for which I didn't find the right place. Probably to be moved to rawpy\n",
    "def elastic_correction(stress, disp, k):\n",
    "    \"\"\"\n",
    "    Apply elastic correction to displacement data.\n",
    "\n",
    "    Parameters:\n",
    "    stress (np.ndarray): The stress data array.\n",
    "    disp (np.ndarray): The displacement data array.\n",
    "    k (float or np.ndarray): The stiffness value (scalar or array).\n",
    "\n",
    "    Returns:\n",
    "    np.ndarray: Elastic corrected displacement data.\n",
    "    \"\"\"\n",
    "    # Convert scalar k to an array if it is not already an array\n",
    "    if np.isscalar(k):\n",
    "        k = k\n",
    "    else:\n",
    "        k = k[:-1]\n",
    "\n",
    "    # Increments in elastic distortion\n",
    "    dload = (stress[1:] - stress[:-1]) / k\n",
    "    # Increments in total displacement\n",
    "    ddisp = disp[1:] - disp[:-1]\n",
    "    # Subtract elastic distortion from total displacement\n",
    "    ec_disp = np.hstack([0, np.cumsum(ddisp - dload)])\n",
    "    return ec_disp\n",
    "\n",
    "def detect_touch_point(force_readings, check_up2load=10):\n",
    "    \"\"\"\n",
    "    Detects the touch point where the force readings consistently stay above the moving average.\n",
    "    \n",
    "    Parameters:\n",
    "    - force_readings: [kN] The time series data of force readings.\n",
    "    - check_up2load: [kN] touch point is searched in the segment before the first occurrence of this value\n",
    "    Returns:\n",
    "    - The index of the touch point.\n",
    "    \"\"\"\n",
    "    min_list = []\n",
    "    max_list = []\n",
    "    average_list = []\n",
    "    idx_lim = np.argmax(force_readings>check_up2load)\n",
    "    force_readings = force_readings[:idx_lim] - force_readings[0]\n",
    "    for N in range(1, len(force_readings)):\n",
    "        min_list.append(np.min(force_readings[:N]))\n",
    "        max_list.append(np.max(force_readings[:N]))\n",
    "        average_list.append(np.mean(force_readings[:N]))\n",
    "    \n",
    "    for i in range(1, len(average_list)):\n",
    "        if all(force_readings[j] > average_list[j] for j in range(i, len(average_list))):\n",
    "            print(f\"Touch point detected at index: {i}\")\n",
    "            return i + 1  # Return the index adjusted to the original data\n",
    "    \n",
    "    return -1  # Return -1 if no touch point is detected\n",
    "\n",
    "########################################################################################\n",
    "# Connect to database\n",
    "ms = MachineService()\n",
    "es = ExperimentService()\n",
    "\n",
    "# Choose the experiment to analyze\n",
    "experiment_id = 's0144sa03min22'\n",
    "machine_id = 'Brava2'\n",
    "experiment_info = es.get_experiment_by_id(experiment_id)\n",
    "experiment_date = experiment_info['Start_Datetime']\n",
    "group_name = \"ADC\"     # the measurements in the tdms file are stored under this denominations\n",
    "\n",
    "# Fetch the centralized measurements (the ones coming from the VI)\n",
    "vertical_load_measurements = es.get_centralized_measurements(experiment_id=experiment_id, group_name=group_name, channel_name= 'Vertical Load')\n",
    "horizontal_load_measurements = es.get_centralized_measurements(experiment_id, group_name=group_name, channel_name= 'Horizontal Load')\n",
    "vertical_displacement_measurements = es.get_centralized_measurements(experiment_id, group_name=group_name, channel_name='Vertical Displacement')\n",
    "horizontal_displacement_measurements = es.get_centralized_measurements(experiment_id, group_name=group_name, channel_name='Horizontal Displacement')\n",
    "time_measurements = es.get_centralized_measurements(experiment_id, group_name=group_name, channel_name='Time')\n",
    "\n",
    "Vertical_Load_recorded = np.array(vertical_load_measurements['data'])\n",
    "Horizontal_Load_recorded = np.array(horizontal_load_measurements['data'])\n",
    "Vertical_Displacement = np.array(vertical_displacement_measurements['data'])\n",
    "Horizontal_Displacement = np.array(horizontal_displacement_measurements['data'])\n",
    "time_s = np.array(time_measurements['data'])\n",
    "records_na = np.arange(len(time_s))     # same operation done in rawpy\n",
    "\n",
    "# Fetch the properties for visualization scaling\n",
    "# For the actually implementation, you need it to offset voltage values for loads measurement\n",
    "vertical_visualization_scaling = vertical_load_measurements['properties']['Slope']\n",
    "vertical_intercept = vertical_load_measurements['properties']['Intercept']\n",
    "horizontal_visualization_scaling = horizontal_load_measurements['properties']['Slope']\n",
    "horizontal_intercept = horizontal_load_measurements['properties']['Intercept']\n",
    "\n",
    "vertical_offset = vertical_intercept/vertical_visualization_scaling\n",
    "horizontal_offset= horizontal_intercept/horizontal_visualization_scaling\n",
    "\n",
    "vertical_load_voltage = Vertical_Load_recorded + vertical_offset\n",
    "horizontal_load_voltage = Horizontal_Load_recorded + horizontal_offset\n",
    "\n",
    "vertical_load_kN = ms.apply_calibration(machine_id, 'vertical', vertical_load_voltage, experiment_date)\n",
    "horizontal_load_kN = ms.apply_calibration(machine_id, 'horizontal', horizontal_load_voltage, experiment_date)\n",
    "\n"
   ]
  },
  {
   "cell_type": "code",
   "execution_count": 2,
   "metadata": {},
   "outputs": [
    {
     "name": "stdout",
     "output_type": "stream",
     "text": [
      "Experiment s0144sa03min22 found\n",
      "MongoDB is running.\n",
      "block paglialberi_1 found\n",
      "block central_1 found\n",
      "block paglialberi_2 found\n"
     ]
    }
   ],
   "source": [
    "\n",
    "# This information can be retrieved from the lateral block sizes: gouge area is just x*y dimensions\n",
    "gouge_area = 0.0025 # m^2. It can be retrieved from the dimensions of the blocks\n",
    "# Query for block dimensions\n",
    "blocks = es.get_blocks(experiment_id=experiment_id)\n",
    "if not blocks:\n",
    "    # Add blocks to the experiment if not present\n",
    "    es.add_block(experiment_id=experiment_id, block_id=\"paglialberi_1\",position=\"left\"),\n",
    "    es.add_block(experiment_id=experiment_id, block_id=\"central_1\",position=\"central\"),\n",
    "    es.add_block(experiment_id=experiment_id, block_id=\"paglialberi_2\",position=\"right\")\n",
    "    blocks = es.get_blocks(experiment_id=experiment_id)\n",
    "\n",
    "\n",
    "\n",
    "# Calculate the gouge area\n",
    "lateral_block_dimensions = blocks[0][\"dimensions\"]\n",
    "gouge_area_mm2 = lateral_block_dimensions['width'] * lateral_block_dimensions['height']  # Assuming uniform block dimensions\n",
    "conversion_parameter = 1e3 *1e-6* gouge_area  # from kN to MPa, so from force to stress\n"
   ]
  },
  {
   "cell_type": "code",
   "execution_count": 3,
   "metadata": {},
   "outputs": [
    {
     "data": {
      "text/plain": [
       "2500"
      ]
     },
     "execution_count": 3,
     "metadata": {},
     "output_type": "execute_result"
    }
   ],
   "source": [
    "gouge_area_mm2"
   ]
  },
  {
   "cell_type": "code",
   "execution_count": 4,
   "metadata": {},
   "outputs": [
    {
     "name": "stdout",
     "output_type": "stream",
     "text": [
      "Touch point detected at index: 2703\n",
      "Applied stiffness correction for piston vertical in machine Brava2.\n",
      "Touch point detected at index: 234\n",
      "Applied stiffness correction for piston horizontal in machine Brava2.\n"
     ]
    }
   ],
   "source": [
    "\n",
    "#### Vertical stress ###\n",
    "#### This is the point at which the ram contacted the blocks and load shear loading began\n",
    "#### So far it is chosen looking at the plot, but it must be automatize too. DONE\n",
    "# beg_row_v = 2808\n",
    "beg_row_v = detect_touch_point(vertical_load_kN, check_up2load=10)\n",
    "##################################\n",
    "\n",
    "# ZERO DATA\n",
    "# add in force from the central block due to gravity\n",
    "# v_load = v_load + 0.044 #[kN]\n",
    "# remove noise before load is applied\n",
    "vertical_load_kN = vertical_load_kN - vertical_load_kN[beg_row_v]\n",
    "vertical_load_kN[:beg_row_v]= vertical_load_kN[:beg_row_v]*0\n",
    "# calculate stress for DDS 5x5\n",
    "shear_stress_MPa = vertical_load_kN/(2*conversion_parameter)      # why that \"2\" Lo sforzo di taglio va suddiviso sui due gouges, non cosi quello normale!!!\n",
    "\n",
    "# Note:  \n",
    "# 1. These values are calculated for a 5x5[cm] shear surface  \n",
    "# 2. Stiffness is non linear at low applied loads  \n",
    "# TO DO: implement a function that corrects for non-linear stiffness: this has been done by Pignalberi\n",
    "# Here the vertical force is zeroed \n",
    "vertical_force = np.where(vertical_load_kN > 0, vertical_load_kN, 0)\n",
    "#### vertical disp ####\n",
    "load_point_disp = Vertical_Displacement - Vertical_Displacement[beg_row_v] # [mum]\n",
    "load_point_disp[:beg_row_v] = load_point_disp[:beg_row_v]*0\n",
    "load_point_disp_mm = load_point_disp/1000       # [mm]\n",
    "\n",
    "# Elastic correction for the stretch of the vertical frame # \n",
    "vertical_k_constant = 166.801 #[MPa/mm]         # calibration from loading and unloading cycles on steel: linear approx\n",
    "vertical_k = ms.apply_stiffness_correction(machine_id, 'vertical', vertical_load_kN, experiment_date)\n",
    "\n",
    "# \"Elastic corrected\" displacement\n",
    "vertical_displacement_corrected_mm = elastic_correction(shear_stress_MPa, load_point_disp_mm, vertical_k) \n",
    "vertical_displacement_corrected_mm_old = elastic_correction(shear_stress_MPa, load_point_disp_mm, vertical_k_constant)\n",
    "\n",
    "#############  normal load ############ \n",
    "#### Normal load is applied at record\n",
    "# beg_row_h = 234\n",
    "beg_row_h = detect_touch_point(horizontal_load_kN, check_up2load=10)\n",
    "\n",
    "######################################\n",
    "# zero the data\n",
    "horizontal_load_kN = horizontal_load_kN - horizontal_load_kN[beg_row_h]\n",
    "# remove noise before load is applied \n",
    "horizontal_load_kN[:beg_row_h] = horizontal_load_kN[:beg_row_h]*0\n",
    "# calculate stress for DDS 5x5\n",
    "normal_stress_MPa =  horizontal_load_kN/(conversion_parameter)\n",
    "#add a small number to normal stress \n",
    "#so that we aren't dividing by 0 anywhere to calculate mu \n",
    "epsilon = 1e-7\n",
    "normal_stress_MPa = normal_stress_MPa + epsilon\n",
    "\n",
    "# Note:  \n",
    "# 1. These values are calculated for a 5x5[cm] shear surface  \n",
    "# 2. Stiffness is non linear at low applied loads  \n",
    "# TO DO: implement a function that corrects for non-linear stiffness. Pignalberi has done it\n",
    "horizontal_force = np.where(vertical_load_kN > 0, vertical_load_kN, 0)\n",
    "\n",
    "# Elastic correction for the stretch of the horizontal frame #\n",
    "horizontal_k_constant = 125.363 #[MPa/mm]              # calibration from loading and unloading cycles on steel: linear approx\n",
    "horizontal_k = ms.apply_stiffness_correction(machine_id, 'horizontal', horizontal_load_kN, experiment_date)\n",
    "\n",
    "# Carolina, correzione iniziale serve nel caso carico normale variabile e se necessario valore assoluto layer thickNess (tipo, fase iniziale)\n",
    "horizontal_displacement_corrected_mm = elastic_correction(normal_stress_MPa, -Horizontal_Displacement/1000,horizontal_k)   # why \"-\"? So that compaction is negative\n",
    "horizontal_displacement_corrected_mm_old = elastic_correction(normal_stress_MPa, -Horizontal_Displacement/1000,horizontal_k_constant)\n",
    "\n",
    "######################################################################\n",
    "########## 5. Calculate layer thickNess: MUST STANDARDIZE!!! ##########################\n",
    "##################################################################### \n",
    "# insert rec number at which layer thickness was measured\n",
    "rec_lt = 234\n",
    "# insert calculated value at that point\n",
    "val_lt = 3    # [mm]\n",
    "###########################################################\n",
    "# zero data\n",
    "layer_thickness_corrected_mm = horizontal_displacement_corrected_mm - horizontal_displacement_corrected_mm[rec_lt]\n",
    "layer_thickness_corrected_mm_half = layer_thickness_corrected_mm/2\n",
    "layer_thickness_corrected_mm1 = layer_thickness_corrected_mm_half + val_lt\n",
    "\n",
    "layer_thickness_corrected_mm_old = horizontal_displacement_corrected_mm_old - horizontal_displacement_corrected_mm_old[rec_lt]\n",
    "layer_thickness_corrected_mm_old_half = layer_thickness_corrected_mm_old/2\n",
    "layer_thickness_corrected_mm_old1 = layer_thickness_corrected_mm_old_half + val_lt\n",
    "\n",
    "# # default unit is [mm]\n",
    "# rgt_lt_mm = rp.rgt(load_point_disp_mm,layer_thickness_corrected_mm1)     # remove geometrical thinning\n",
    "# # 6. Calculate friction \n",
    "friction_na = shear_stress_MPa / normal_stress_MPa\n",
    "\n",
    "# # 7. Calculate shear strain. Marco dice indifferente lt o quella corretta per geometrical thinning\n",
    "# shear_strain_na = rp.shear_strain(ec_disp_mm,layer_thickness_corrected_mm1)\n"
   ]
  },
  {
   "cell_type": "code",
   "execution_count": 5,
   "metadata": {},
   "outputs": [
    {
     "data": {
      "text/plain": [
       "[<matplotlib.lines.Line2D at 0x744d9ab08dc0>]"
      ]
     },
     "execution_count": 5,
     "metadata": {},
     "output_type": "execute_result"
    },
    {
     "data": {
      "image/png": "[encoded data removed]",
      "text/plain": [
       "<Figure size 640x480 with 1 Axes>"
      ]
     },
     "metadata": {},
     "output_type": "display_data"
    }
   ],
   "source": [
    "plt.plot(horizontal_displacement_corrected_mm)\n",
    "plt.plot(horizontal_displacement_corrected_mm_old)"
   ]
  },
  {
   "cell_type": "code",
   "execution_count": null,
   "metadata": {},
   "outputs": [],
   "source": []
  }
 ],
 "metadata": {
  "kernelspec": {
   "display_name": ".venv",
   "language": "python",
   "name": "python3"
  },
  "language_info": {
   "codemirror_mode": {
    "name": "ipython",
    "version": 3
   },
   "file_extension": ".py",
   "mimetype": "text/x-python",
   "name": "python",
   "nbconvert_exporter": "python",
   "pygments_lexer": "ipython3",
   "version": "3.10.12"
  }
 },
 "nbformat": 4,
 "nbformat_minor": 2
}
